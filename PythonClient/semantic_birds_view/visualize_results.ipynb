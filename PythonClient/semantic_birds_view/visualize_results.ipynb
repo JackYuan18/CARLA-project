{
 "cells": [
  {
   "cell_type": "code",
   "execution_count": null,
   "metadata": {},
   "outputs": [],
   "source": [
    "from IPython.core.display import display, HTML\n",
    "display(HTML(\"<style>.container { width:100% !important; }</style>\"))"
   ]
  },
  {
   "cell_type": "code",
   "execution_count": null,
   "metadata": {},
   "outputs": [],
   "source": [
    "%load_ext autoreload"
   ]
  },
  {
   "cell_type": "code",
   "execution_count": null,
   "metadata": {},
   "outputs": [],
   "source": [
    "%autoreload 2"
   ]
  },
  {
   "cell_type": "code",
   "execution_count": null,
   "metadata": {},
   "outputs": [],
   "source": [
    "from IPython.core.debugger import set_trace"
   ]
  },
  {
   "cell_type": "code",
   "execution_count": null,
   "metadata": {},
   "outputs": [],
   "source": [
    "CAMERA_IDS = [\n",
    "    'FrontSS', 'LeftSS', 'RightSS', 'RearSS', 'TopSS'\n",
    "]\n",
    "\n",
    "CLASSES_NAMES = [\n",
    "    ['Roads', 'RoadLines'],\n",
    "    \n",
    "    ['None', 'Buildings', 'Fences', 'Other', 'Pedestrians',\n",
    "     'Poles', 'Walls', 'TrafficSigns',\n",
    "     'Vegetation', 'Sidewalks'],\n",
    "    \n",
    "    ['Vehicles'],\n",
    "]\n",
    "\n",
    "CLASSES_NAMES = [\n",
    "    ['Roads', 'RoadLines'],\n",
    "    \n",
    "    ['Sidewalks'],\n",
    "    \n",
    "    ['Buildings'],\n",
    "    \n",
    "    ['Fences', 'Other', 'Pedestrians',\n",
    "     'Poles', 'Walls', 'TrafficSigns'],\n",
    "    \n",
    "    ['Vehicles'],\n",
    "    \n",
    "    ['Vegetation'],\n",
    "        \n",
    "    ['None']\n",
    "]\n",
    "\n",
    "\n",
    "DECIMATION = 2"
   ]
  },
  {
   "cell_type": "code",
   "execution_count": null,
   "metadata": {},
   "outputs": [],
   "source": [
    "import numpy as np\n",
    "import matplotlib.pyplot as plt\n",
    "from utils import (\n",
    "    get_X_and_Y, make_movie, unwrap_to_ohe, class_names_to_class_numbers\n",
    ")\n",
    "\n",
    "\n",
    "storage = get_X_and_Y(['Town01'], range(1), DECIMATION, CAMERA_IDS)\n",
    "X = [storage[id_] for id_ in CAMERA_IDS]"
   ]
  },
  {
   "cell_type": "code",
   "execution_count": null,
   "metadata": {},
   "outputs": [],
   "source": [
    "frame = 100\n",
    "camera_idx = 0\n",
    "\n",
    "\n",
    "fig, ax = plt.subplots()\n",
    "ax.grid(False)\n",
    "fig.subplots_adjust(left=0, bottom=0, right=1, top=1, wspace=0, hspace=0)\n",
    "fig.set_size_inches((20, 10))\n",
    "ax.margins(0, 0)\n",
    "\n",
    "for frame in range(0, 1000, 100):\n",
    "    for camera_idx in range(5):\n",
    "        x = unwrap_to_ohe(X[camera_idx][..., frame], class_names_to_class_numbers(CLASSES_NAMES))\n",
    "        ax.imshow(np.argmax(x, axis=2), vmin=0, vmax=len(CLASSES_NAMES), cmap='gist_stern')#, aspect='auto')\n",
    "        ax.axis('off')\n",
    "        fig.show()\n",
    "        plt.savefig('images/for_blog_post_frame={}_camera={}.png'.format(frame, camera_idx))"
   ]
  },
  {
   "cell_type": "code",
   "execution_count": null,
   "metadata": {},
   "outputs": [],
   "source": [
    "multi_model = None\n",
    "\n",
    "for racetrack in ['Town01', 'Town02']:\n",
    "    for episode in [102, 103]:\n",
    "        multi_model = make_movie(\n",
    "            'models/multi_model__sweep=21_decimation=2_numclasses=7_valloss=0.305.h5',\n",
    "            racetrack,\n",
    "            episode,\n",
    "            DECIMATION,\n",
    "            CLASSES_NAMES,\n",
    "            CAMERA_IDS\n",
    "        )"
   ]
  },
  {
   "cell_type": "code",
   "execution_count": null,
   "metadata": {},
   "outputs": [],
   "source": [
    "frame = 10\n",
    "\n",
    "\n",
    "plt.imshow(X[0][..., 0, frame], vmin=0, cmap='gist_stern')"
   ]
  },
  {
   "cell_type": "code",
   "execution_count": null,
   "metadata": {},
   "outputs": [],
   "source": [
    "from sklearn.metrics import log_loss, roc_auc_score\n",
    "\n",
    "\n",
    "episode_len = 1000\n",
    "\n",
    "\n",
    "X, Y = get_X_and_Y(['Town01', 'Town02'], [0, 1, 2, 3, 4, 5, 6], DECIMATION)\n",
    "    \n",
    "classes_numbers = class_names_to_class_numbers(CLASSES_NAMES)\n",
    "\n",
    "X_final, y_final = [[] for _ in range(4)], []\n",
    "for index in range(episode_len):\n",
    "    X_out, y_out = extract_observation_for_batch(X, Y, index, False, classes_numbers)\n",
    "    for j in range(len(X_final)):\n",
    "        X_final[j].append(X_out[j])\n",
    "    y_final.append(y_out)\n",
    "\n",
    "X_final = [np.stack(x) for x in X_final]\n",
    "y_final = np.stack(y_final)\n",
    "\n",
    "preds = multi_model.predict(X_final + [y_final])[5]"
   ]
  },
  {
   "cell_type": "code",
   "execution_count": null,
   "metadata": {},
   "outputs": [],
   "source": [
    "loss_matrix = np.zeros(y_final.shape[1:3])\n",
    "\n",
    "# for frame in range(loss_matrix.shape[0]):\n",
    "for i in range(loss_matrix.shape[0]):\n",
    "    for j in range(loss_matrix.shape[1]):\n",
    "        loss_matrix[i, j] = log_loss(y_final[:, i, j], preds[:, i, j])"
   ]
  },
  {
   "cell_type": "code",
   "execution_count": null,
   "metadata": {},
   "outputs": [],
   "source": [
    "plt.figure(figsize=(40, 10))\n",
    "\n",
    "plt.imshow(loss_matrix.T, cmap='seismic')\n",
    "plt.colorbar()"
   ]
  },
  {
   "cell_type": "code",
   "execution_count": null,
   "metadata": {},
   "outputs": [],
   "source": []
  }
 ],
 "metadata": {
  "kernelspec": {
   "display_name": "Python 3",
   "language": "python",
   "name": "python3"
  },
  "language_info": {
   "codemirror_mode": {
    "name": "ipython",
    "version": 3
   },
   "file_extension": ".py",
   "mimetype": "text/x-python",
   "name": "python",
   "nbconvert_exporter": "python",
   "pygments_lexer": "ipython3",
   "version": "3.5.2"
  }
 },
 "nbformat": 4,
 "nbformat_minor": 2
}
