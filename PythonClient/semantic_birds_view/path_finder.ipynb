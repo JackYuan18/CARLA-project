{
 "cells": [
  {
   "cell_type": "code",
   "execution_count": null,
   "metadata": {},
   "outputs": [],
   "source": [
    "from IPython.core.display import display, HTML\n",
    "display(HTML(\"<style>.container { width:100% !important; }</style>\"))"
   ]
  },
  {
   "cell_type": "code",
   "execution_count": null,
   "metadata": {},
   "outputs": [],
   "source": [
    "%load_ext autoreload"
   ]
  },
  {
   "cell_type": "code",
   "execution_count": null,
   "metadata": {},
   "outputs": [],
   "source": [
    "%autoreload 2"
   ]
  },
  {
   "cell_type": "code",
   "execution_count": null,
   "metadata": {},
   "outputs": [],
   "source": [
    "from IPython.core.debugger import set_trace"
   ]
  },
  {
   "cell_type": "code",
   "execution_count": null,
   "metadata": {},
   "outputs": [],
   "source": [
    "from utils import get_X_and_Y, rgb_frame, make_rgb_movie, find_waypoints\n",
    "\n",
    "\n",
    "DECIMATION = 2\n",
    "BATCH_SIZE = 32\n",
    "\n",
    "CAMERA_IDS = [\n",
    "    'FrontSS', 'LeftSS', 'RightSS', 'RearSS', 'TopSS'\n",
    "]\n",
    "\n",
    "CLASSES_NAMES = [\n",
    "    ['Roads', 'RoadLines'],\n",
    "    \n",
    "    ['None', 'Buildings', 'Fences', 'Other', 'Pedestrians',\n",
    "     'Poles', 'Walls', 'TrafficSigns',\n",
    "     'Vegetation', 'Sidewalks'],\n",
    "    \n",
    "    ['Vehicles'],\n",
    "]\n",
    "\n",
    "# CLASSES_NAMES = [\n",
    "#     ['Roads', 'RoadLines'],\n",
    "    \n",
    "#     ['Sidewalks'],\n",
    "    \n",
    "#     ['Buildings'],\n",
    "    \n",
    "#     ['Fences', 'Other', 'Pedestrians',\n",
    "#      'Poles', 'Walls', 'TrafficSigns'],\n",
    "    \n",
    "#     ['Vehicles'],\n",
    "    \n",
    "#     ['Vegetation'],\n",
    "        \n",
    "#     ['None']\n",
    "# ]"
   ]
  },
  {
   "cell_type": "code",
   "execution_count": null,
   "metadata": {},
   "outputs": [],
   "source": [
    "import keras.backend as K\n",
    "from keras.models import Model, load_model\n",
    "from keras.layers import Input\n",
    "\n",
    "\n",
    "multi_model = load_model('models/multi_model__sweep=23_decimation=2_numclasses=3_valloss=0.044.h5')\n",
    "\n",
    "one_inp_shape = K.int_shape(multi_model.input[0])[1:]\n",
    "inp = [\n",
    "    multi_model.inputs[inp_idx] for inp_idx, inp_name in enumerate(CAMERA_IDS) if 'Top' not in inp_name\n",
    "]\n",
    "\n",
    "out = multi_model.get_layer('reconstruction').output\n",
    "\n",
    "birds_view_model = Model(inp, out)"
   ]
  },
  {
   "cell_type": "code",
   "execution_count": null,
   "metadata": {
    "scrolled": true
   },
   "outputs": [],
   "source": [
    "birds_view_model.summary()"
   ]
  },
  {
   "cell_type": "code",
   "execution_count": null,
   "metadata": {
    "scrolled": true
   },
   "outputs": [],
   "source": [
    "from IPython.display import SVG\n",
    "from keras.utils.vis_utils import model_to_dot, plot_model\n",
    "\n",
    "\n",
    "plot_model(birds_view_model, to_file='images/birds_view_model.png')#, show_shapes=True)\n",
    "SVG(model_to_dot(birds_view_model).create(prog='dot', format='svg'))"
   ]
  },
  {
   "cell_type": "code",
   "execution_count": null,
   "metadata": {},
   "outputs": [],
   "source": [
    "import numpy as np\n",
    "import matplotlib.pyplot as plt\n",
    "from utils import class_names_to_class_numbers, extract_observation_for_batch\n",
    "\n",
    "\n",
    "racetrack = 'Town01'\n",
    "episode = 102\n",
    "decimation = DECIMATION\n",
    "camera_ids = CAMERA_IDS\n",
    "classes_names = CLASSES_NAMES\n",
    "episode_len = 1000\n",
    "batch_size = 32\n",
    "\n",
    "\n",
    "storage = get_X_and_Y([racetrack], [episode], decimation, camera_ids)\n",
    "X = [storage[id_] for id_ in camera_ids if 'Top' not in id_]\n",
    "Y = [storage[id_] for id_ in camera_ids if 'Top' in id_][0]\n",
    "\n",
    "classes_numbers = class_names_to_class_numbers(classes_names)\n",
    "\n",
    "X_final, y_final = [[] for _ in range(4)], []\n",
    "for index in range(episode_len):\n",
    "    X_out, y_out = extract_observation_for_batch(X, Y, index, False, classes_numbers)\n",
    "    for j in range(len(X_final)):\n",
    "        X_final[j].append(X_out[j])\n",
    "    y_final.append(y_out)\n",
    "\n",
    "X_final = [np.stack(x) for x in X_final]\n",
    "y_final = np.stack(y_final)\n",
    "\n",
    "preds = birds_view_model.predict(X_final, batch_size=batch_size)\n",
    "\n",
    "# BTW, let's evaluate the model\n",
    "birds_view_model.compile(optimizer='adam', loss='categorical_crossentropy')\n",
    "categorical_crossentropy = birds_view_model.evaluate(X_final, y_final)\n",
    "print('Categorical cross entropy on this racetrack and episode: {:.4f}'.format(categorical_crossentropy))\n",
    "\n",
    "\n",
    "fig, ax = plt.subplots()\n",
    "\n",
    "ax.grid(False)\n",
    "\n",
    "fig.subplots_adjust(left=0, bottom=0, right=1, top=1, wspace=0, hspace=0)\n",
    "ax.margins(0, 0)\n",
    "\n",
    "for i in range(0, 1000, 100):\n",
    "    frame = rgb_frame(preds, y_final, i, draw_waypoints=True)\n",
    "    ax.clear()\n",
    "    ax.imshow(frame, aspect='auto')\n",
    "    ax.text(40, 177, 'actual', color='white', fontsize=24, fontweight='bold')\n",
    "    ax.text(145, 177, 'predicted', color='white', fontsize=24, fontweight='bold')\n",
    "    ax.axis('off')\n",
    "    plt.show()"
   ]
  },
  {
   "cell_type": "code",
   "execution_count": null,
   "metadata": {},
   "outputs": [],
   "source": [
    "import time\n",
    "\n",
    "\n",
    "times = []\n",
    "for i in range(len(X_final[0])):\n",
    "    X = [np.expand_dims(x[i], 0) for x in X_final]\n",
    "    start = time.time()\n",
    "    birds_view_model.predict(X)\n",
    "    times.append(time.time() - start)\n",
    "    \n",
    "    \n",
    "print('Mean prediction time: {:.4f}s'.format(np.mean(times)))"
   ]
  },
  {
   "cell_type": "code",
   "execution_count": null,
   "metadata": {
    "scrolled": true
   },
   "outputs": [],
   "source": [
    "for racetrack in ['Town01', 'Town02']:\n",
    "    for episode in [102, 103]:\n",
    "        make_rgb_movie(birds_view_model, racetrack, episode, DECIMATION, CLASSES_NAMES, CAMERA_IDS)"
   ]
  },
  {
   "cell_type": "code",
   "execution_count": null,
   "metadata": {},
   "outputs": [],
   "source": []
  },
  {
   "cell_type": "code",
   "execution_count": null,
   "metadata": {},
   "outputs": [],
   "source": []
  },
  {
   "cell_type": "code",
   "execution_count": null,
   "metadata": {},
   "outputs": [],
   "source": []
  }
 ],
 "metadata": {
  "kernelspec": {
   "display_name": "Python 3",
   "language": "python",
   "name": "python3"
  },
  "language_info": {
   "codemirror_mode": {
    "name": "ipython",
    "version": 3
   },
   "file_extension": ".py",
   "mimetype": "text/x-python",
   "name": "python",
   "nbconvert_exporter": "python",
   "pygments_lexer": "ipython3",
   "version": "3.5.2"
  }
 },
 "nbformat": 4,
 "nbformat_minor": 2
}
